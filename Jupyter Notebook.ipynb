{
    "cells": [
        {
            "cell_type": "markdown",
            "metadata": {},
            "source": "# My Jupyter Notebook on IBM Watson Studio"
        },
        {
            "cell_type": "markdown",
            "metadata": {},
            "source": "<b>Andreas Schempp</b>\n\nOperations Strategy & Analytics Manager"
        },
        {
            "cell_type": "markdown",
            "metadata": {},
            "source": "<i> Data is the new oil and with proper analysis it will help organizations to gain a competitive edge </i>"
        },
        {
            "cell_type": "markdown",
            "metadata": {},
            "source": "#### The code below shows the result of substracting 3 from 9"
        },
        {
            "cell_type": "code",
            "execution_count": 2,
            "metadata": {
                "scrolled": true
            },
            "outputs": [
                {
                    "name": "stdout",
                    "output_type": "stream",
                    "text": "6\n"
                }
            ],
            "source": "print(9-3)"
        },
        {
            "attachments": {},
            "cell_type": "markdown",
            "metadata": {},
            "source": "#### This section includes:\n\n<ul>\n<li>a hyperlink</li>\n<li>a numbered list</li>\n<li>a bulleted list</li>\n</ul>\n\n__[Link to Google search](https://www.google.com)__\n#### My first three results on Google search starting with \"a\". What are yours?\n<ol>\n<li>amazon</li>\n<li>amazon prime</li> \n<li>american express</li>\n</ol>\n\n#### My first three results on Google search starting with \"b\". What are yours?\n<ul>\n<li>bank of america</li>\n<li>banana republic</li> \n<li>bath and body works</li>\n</ul>"
        }
    ],
    "metadata": {
        "kernelspec": {
            "display_name": "Python 3.6",
            "language": "python",
            "name": "python3"
        },
        "language_info": {
            "codemirror_mode": {
                "name": "ipython",
                "version": 3
            },
            "file_extension": ".py",
            "mimetype": "text/x-python",
            "name": "python",
            "nbconvert_exporter": "python",
            "pygments_lexer": "ipython3",
            "version": "3.6.9"
        }
    },
    "nbformat": 4,
    "nbformat_minor": 1
}